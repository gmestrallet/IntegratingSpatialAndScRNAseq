{
  "nbformat": 4,
  "nbformat_minor": 0,
  "metadata": {
    "colab": {
      "provenance": [],
      "authorship_tag": "ABX9TyOiSflPBHztfTT1bwUDlrU9",
      "include_colab_link": true
    },
    "kernelspec": {
      "name": "python3",
      "display_name": "Python 3"
    },
    "language_info": {
      "name": "python"
    }
  },
  "cells": [
    {
      "cell_type": "markdown",
      "metadata": {
        "id": "view-in-github",
        "colab_type": "text"
      },
      "source": [
        "<a href=\"https://colab.research.google.com/github/gmestrallet/IntegratingSpatialAndScRNAseq/blob/main/IntegratingSpatialAndScRNAseq.ipynb\" target=\"_parent\"><img src=\"https://colab.research.google.com/assets/colab-badge.svg\" alt=\"Open In Colab\"/></a>"
      ]
    },
    {
      "cell_type": "markdown",
      "source": [
        "This notebook demonstrates how to integrate visium spatial and single cell RNAseq data using scanpy with data stored in google drive. More information available https://scanpy.readthedocs.io/en/stable/tutorials/spatial/integration-scanorama.html"
      ],
      "metadata": {
        "id": "Qe3DfIZnMYLw"
      }
    },
    {
      "cell_type": "code",
      "execution_count": null,
      "metadata": {
        "id": "xPMOjmjhMASb"
      },
      "outputs": [],
      "source": [
        "#Mount Google Drive to access your files, if they are stored there.\n",
        "from google.colab import drive\n",
        "drive.mount('/content/drive')"
      ]
    },
    {
      "cell_type": "code",
      "source": [
        "#Set the path where you want to store the files (use your own directory).\n",
        "import os"
      ],
      "metadata": {
        "id": "hxyBJBAYMuTR"
      },
      "execution_count": null,
      "outputs": []
    },
    {
      "cell_type": "code",
      "source": [
        "#Replace 'RNAseq_folder' with the path to the folder in your Google Drive or use '/content/' for local storage.\n",
        "rna_seq_path = '/content/drive/My Drive/RNAseq_folder'\n",
        "os.chdir(rna_seq_path)"
      ],
      "metadata": {
        "id": "jsTlXVHiMugn"
      },
      "execution_count": null,
      "outputs": []
    },
    {
      "cell_type": "code",
      "source": [
        "#Install necessary libraries and import\n",
        "!pip install scanpy  # Make sure scanpy is installed\n",
        "!pip install anndata  # Make sure anndata is installed\n",
        "!pip install scanorama  # Make sure scanorama is installed\n",
        "!pip install h5py  # Make sure h5py is installed\n",
        "!pip install cupy-cuda11x  # Make sure cupy is installed (change if using a different CUDA version)\n",
        "!pip install leidenalg  # Make sure leidenalg is installed\n",
        "import scanpy as sc\n",
        "import anndata as an\n",
        "import pandas as pd\n",
        "import numpy as np\n",
        "import matplotlib as mpl\n",
        "import matplotlib.pyplot as plt\n",
        "import seaborn as sns\n",
        "import scanorama\n",
        "import h5py\n",
        "import cupy"
      ],
      "metadata": {
        "id": "faLHxcNQMujY"
      },
      "execution_count": null,
      "outputs": []
    },
    {
      "cell_type": "code",
      "source": [
        "sc.logging.print_versions()\n",
        "sc.set_figure_params(facecolor=\"white\", figsize=(8, 8))\n",
        "sc.settings.verbosity = 3"
      ],
      "metadata": {
        "id": "JHzkVXEAMulx"
      },
      "execution_count": null,
      "outputs": []
    },
    {
      "cell_type": "code",
      "source": [
        "#Read the filtered feature barcode matrix (gene expression data such as filtered_feature_bc_matrix.h5)\n",
        "adata = sc.read_visium(\"/content/drive/My Drive/RNAseq_folder\")\n",
        "adata.var_names_make_unique()\n",
        "adata.var[\"mt\"] = adata.var_names.str.startswith(\"MT-\")\n",
        "sc.pp.calculate_qc_metrics(adata, qc_vars=[\"mt\"], inplace=True)"
      ],
      "metadata": {
        "id": "YAC3wRUpMuof"
      },
      "execution_count": null,
      "outputs": []
    },
    {
      "cell_type": "code",
      "source": [
        "adata"
      ],
      "metadata": {
        "id": "R_GlKMGmMurC"
      },
      "execution_count": null,
      "outputs": []
    },
    {
      "cell_type": "code",
      "source": [
        "#QC and preprocessing, we perform basic filtering of spots based on total counts and expressed genes\n",
        "fig, axs = plt.subplots(1, 4, figsize=(15, 4))\n",
        "sns.histplot(adata.obs[\"total_counts\"], kde=False, ax=axs[0])\n",
        "sns.histplot(\n",
        "    adata.obs[\"total_counts\"][adata.obs[\"total_counts\"] < 10000],\n",
        "    kde=False,\n",
        "    bins=40,\n",
        "    ax=axs[1],\n",
        ")\n",
        "sns.histplot(adata.obs[\"n_genes_by_counts\"], kde=False, bins=60, ax=axs[2])\n",
        "sns.histplot(\n",
        "    adata.obs[\"n_genes_by_counts\"][adata.obs[\"n_genes_by_counts\"] < 4000],\n",
        "    kde=False,\n",
        "    bins=60,\n",
        "    ax=axs[3],\n",
        ")"
      ],
      "metadata": {
        "id": "XPaAmQhoMutv"
      },
      "execution_count": null,
      "outputs": []
    },
    {
      "cell_type": "code",
      "source": [
        "sc.pp.normalize_total(adata, inplace=True)\n",
        "sc.pp.log1p(adata)\n",
        "sc.pp.highly_variable_genes(adata, flavor=\"seurat\", n_top_genes=2000, inplace=True)"
      ],
      "metadata": {
        "id": "x8uxH2NNMuwY"
      },
      "execution_count": null,
      "outputs": []
    },
    {
      "cell_type": "code",
      "source": [
        "#Load preprocessed and clustered scRNAseq data if this is already done (it should be in your previous write directory, see https://colab.research.google.com/drive/1qOinOkYVgRqIetGPbvx7F6mzDVUIlws8#scrollTo=PZ4UcjrcMfiw)\n",
        "single_cells = sc.read('/content/drive/My Drive/RNAseq_folder/data/write/allcells.h5ad')"
      ],
      "metadata": {
        "id": "USJWfA3sMuy_"
      },
      "execution_count": null,
      "outputs": []
    },
    {
      "cell_type": "code",
      "source": [
        "single_cells"
      ],
      "metadata": {
        "id": "p397V4v-Mu1q"
      },
      "execution_count": null,
      "outputs": []
    },
    {
      "cell_type": "code",
      "source": [
        "adatas = [single_cells, adata]\n",
        "\n",
        "# Integration.\n",
        "adatas_cor = scanorama.correct_scanpy(adatas, return_dimred=True)"
      ],
      "metadata": {
        "id": "EKc3qNZ-Mu4j"
      },
      "execution_count": null,
      "outputs": []
    },
    {
      "cell_type": "code",
      "source": [
        "adata2 = sc.concat(\n",
        "    adatas_cor,\n",
        "    label=\"dataset\",\n",
        "    keys=[\"smart-seq\", \"visium\"],\n",
        "    join=\"outer\",\n",
        "    uns_merge=\"first\",\n",
        ")"
      ],
      "metadata": {
        "id": "LwEDRofBMu7A"
      },
      "execution_count": null,
      "outputs": []
    },
    {
      "cell_type": "code",
      "source": [
        "from sklearn.metrics.pairwise import cosine_distances\n",
        "distances = 1 - cosine_distances(\n",
        "    adata2[adata2.obs.dataset == \"smart-seq\"].obsm[\"X_scanorama\"],\n",
        "    adata2[adata2.obs.dataset == \"visium\"].obsm[\"X_scanorama\"],\n",
        ")"
      ],
      "metadata": {
        "id": "pm_XhoF8Mu90"
      },
      "execution_count": null,
      "outputs": []
    },
    {
      "cell_type": "code",
      "source": [
        "def label_transfer(dist, labels):\n",
        "    lab = pd.get_dummies(labels).to_numpy().T\n",
        "    class_prob = lab @ dist\n",
        "    norm = np.linalg.norm(class_prob, 2, axis=0)\n",
        "    class_prob = class_prob / norm\n",
        "    class_prob = (class_prob.T - class_prob.min(1)) / class_prob.ptp(1)\n",
        "    return class_prob"
      ],
      "metadata": {
        "id": "dw5MHUFjMvBQ"
      },
      "execution_count": null,
      "outputs": []
    },
    {
      "cell_type": "code",
      "source": [
        "class_prob = label_transfer(distances, single_cells.obs['leiden'])"
      ],
      "metadata": {
        "id": "ejxTo0FmP7zZ"
      },
      "execution_count": null,
      "outputs": []
    },
    {
      "cell_type": "code",
      "source": [
        "cp_df = pd.DataFrame(\n",
        "    class_prob, columns=np.sort(single_cells.obs['leiden'].unique())\n",
        ")\n",
        "cp_df.index = adata.obs.index"
      ],
      "metadata": {
        "id": "Ito4j9-LP79i"
      },
      "execution_count": null,
      "outputs": []
    },
    {
      "cell_type": "code",
      "source": [
        "adata_transfer = adata.copy()\n",
        "adata_transfer.obs = pd.concat(\n",
        "    [adata.obs, cp_df], axis=1\n",
        ")"
      ],
      "metadata": {
        "id": "XiBiCraaP7_9"
      },
      "execution_count": null,
      "outputs": []
    },
    {
      "cell_type": "code",
      "source": [
        "adata_transfer.obsm['spatial'] = adata_transfer.obsm['spatial'].astype(int)\n",
        "sc.pl.spatial(\n",
        "    adata_transfer,\n",
        "    img_key=\"hires\",\n",
        "    color=['ScRNASeq_Cluster_1','ScRNASeq_Cluster_2'],\n",
        "    size=1.5,\n",
        ")"
      ],
      "metadata": {
        "id": "Z2n54yA4P8DK"
      },
      "execution_count": null,
      "outputs": []
    }
  ]
}